{
 "cells": [
  {
   "cell_type": "code",
   "execution_count": 1,
   "id": "dd5a5d41",
   "metadata": {
    "scrolled": false
   },
   "outputs": [
    {
     "name": "stdout",
     "output_type": "stream",
     "text": [
      "Requirement already satisfied: tensorflow in c:\\users\\asus\\anaconda3\\lib\\site-packages (2.10.0)\n",
      "Requirement already satisfied: keras in c:\\users\\asus\\anaconda3\\lib\\site-packages (2.10.0)\n",
      "Requirement already satisfied: scikit-learn in c:\\users\\asus\\anaconda3\\lib\\site-packages (1.3.0)\n",
      "Requirement already satisfied: matplotlib in c:\\users\\asus\\anaconda3\\lib\\site-packages (3.7.2)\n",
      "Requirement already satisfied: pandas in c:\\users\\asus\\anaconda3\\lib\\site-packages (2.0.3)\n"
     ]
    },
    {
     "name": "stderr",
     "output_type": "stream",
     "text": [
      "ERROR: Could not find a version that satisfies the requirement pil (from versions: none)\n",
      "ERROR: No matching distribution found for pil\n"
     ]
    }
   ],
   "source": [
    "get_ipython().system('pip install tensorflow keras scikit-learn matplotlib pandas pil')"
   ]
  },
  {
   "cell_type": "code",
   "execution_count": 2,
   "id": "8d9c5e98",
   "metadata": {},
   "outputs": [],
   "source": [
    "import numpy as np \n",
    "import pandas as pd \n",
    "import matplotlib.pyplot as plt\n",
    "import cv2\n",
    "import tensorflow as tf\n",
    "from PIL import Image\n",
    "import os\n",
    "from sklearn.model_selection import train_test_split\n",
    "from keras.utils import to_categorical\n",
    "from keras.models import Sequential, load_model\n",
    "from keras.layers import Conv2D, MaxPool2D, Dense, Flatten, Dropout"
   ]
  },
  {
   "cell_type": "code",
   "execution_count": 3,
   "id": "4b88328c",
   "metadata": {},
   "outputs": [],
   "source": [
    "os.chdir('C:\\Traffic')"
   ]
  },
  {
   "cell_type": "code",
   "execution_count": 4,
   "id": "88701968",
   "metadata": {},
   "outputs": [],
   "source": [
    "data=[]\n",
    "labels=[]\n",
    "classes=43\n",
    "cur_path=os.getcwd()"
   ]
  },
  {
   "cell_type": "code",
   "execution_count": 5,
   "id": "44f88f94",
   "metadata": {},
   "outputs": [
    {
     "data": {
      "text/plain": [
       "'C:\\\\Traffic'"
      ]
     },
     "execution_count": 5,
     "metadata": {},
     "output_type": "execute_result"
    }
   ],
   "source": [
    "cur_path"
   ]
  },
  {
   "cell_type": "code",
   "execution_count": 6,
   "id": "19f3026d",
   "metadata": {},
   "outputs": [],
   "source": [
    "for i in range(classes):\n",
    "    path = os.path.join(cur_path, 'Train', str(i))\n",
    "    for img in os.listdir(path):\n",
    "        image = Image.open(path +'/'+img)\n",
    "        image = image.resize((32,32))\n",
    "        image = np.array(image)\n",
    "        data.append(image)\n",
    "        labels.append(i)\n",
    "data = np.array(data)\n",
    "labels = np.array(labels)"
   ]
  },
  {
   "cell_type": "code",
   "execution_count": 7,
   "id": "c17594c0",
   "metadata": {},
   "outputs": [],
   "source": [
    "#LOAD DATA AND LABELS"
   ]
  },
  {
   "cell_type": "code",
   "execution_count": 8,
   "id": "c5a28af8",
   "metadata": {},
   "outputs": [],
   "source": [
    "np.save('./training/data',data)\n",
    "np.save('./training/target',labels)"
   ]
  },
  {
   "cell_type": "code",
   "execution_count": 9,
   "id": "f37b635d",
   "metadata": {},
   "outputs": [],
   "source": [
    "data=np.load('./training/data.npy')\n",
    "labels=np.load('./training/target.npy')"
   ]
  },
  {
   "cell_type": "code",
   "execution_count": 10,
   "id": "57536cbb",
   "metadata": {},
   "outputs": [
    {
     "name": "stdout",
     "output_type": "stream",
     "text": [
      "(39209, 32, 32, 3) (39209,)\n"
     ]
    }
   ],
   "source": [
    "print(data.shape,labels.shape)"
   ]
  },
  {
   "cell_type": "code",
   "execution_count": 11,
   "id": "6aca5ba6",
   "metadata": {},
   "outputs": [],
   "source": [
    "x_train,x_test,y_train,y_test=train_test_split(data, labels, test_size=0.2, random_state=42)"
   ]
  },
  {
   "cell_type": "code",
   "execution_count": 12,
   "id": "9e9109f0",
   "metadata": {},
   "outputs": [
    {
     "name": "stdout",
     "output_type": "stream",
     "text": [
      "(31367, 32, 32, 3) (7842, 32, 32, 3) (31367,) (7842,)\n"
     ]
    }
   ],
   "source": [
    "print(x_train.shape,x_test.shape,y_train.shape,y_test.shape)"
   ]
  },
  {
   "cell_type": "code",
   "execution_count": 13,
   "id": "6db8437d",
   "metadata": {},
   "outputs": [],
   "source": [
    "#CONVERTING LABELS INTO ONEHOT ENCODING"
   ]
  },
  {
   "cell_type": "code",
   "execution_count": 14,
   "id": "f300aab5",
   "metadata": {},
   "outputs": [],
   "source": [
    "y_train= to_categorical(y_train, 43)\n",
    "y_test= to_categorical(y_test, 43)"
   ]
  },
  {
   "cell_type": "code",
   "execution_count": 16,
   "id": "cfab40ee",
   "metadata": {},
   "outputs": [
    {
     "name": "stdout",
     "output_type": "stream",
     "text": [
      "Model: \"sequential\"\n",
      "_________________________________________________________________\n",
      " Layer (type)                Output Shape              Param #   \n",
      "=================================================================\n",
      " conv2d (Conv2D)             (None, 28, 28, 32)        2432      \n",
      "                                                                 \n",
      " conv2d_1 (Conv2D)           (None, 24, 24, 32)        25632     \n",
      "                                                                 \n",
      " max_pooling2d (MaxPooling2D  (None, 12, 12, 32)       0         \n",
      " )                                                               \n",
      "                                                                 \n",
      " dropout (Dropout)           (None, 12, 12, 32)        0         \n",
      "                                                                 \n",
      " conv2d_2 (Conv2D)           (None, 10, 10, 64)        18496     \n",
      "                                                                 \n",
      " conv2d_3 (Conv2D)           (None, 8, 8, 64)          36928     \n",
      "                                                                 \n",
      " max_pooling2d_1 (MaxPooling  (None, 4, 4, 64)         0         \n",
      " 2D)                                                             \n",
      "                                                                 \n",
      " dropout_1 (Dropout)         (None, 4, 4, 64)          0         \n",
      "                                                                 \n",
      " flatten (Flatten)           (None, 1024)              0         \n",
      "                                                                 \n",
      " dense (Dense)               (None, 256)               262400    \n",
      "                                                                 \n",
      " dropout_2 (Dropout)         (None, 256)               0         \n",
      "                                                                 \n",
      " dense_1 (Dense)             (None, 43)                11051     \n",
      "                                                                 \n",
      "=================================================================\n",
      "Total params: 356,939\n",
      "Trainable params: 356,939\n",
      "Non-trainable params: 0\n",
      "_________________________________________________________________\n"
     ]
    }
   ],
   "source": [
    "model = Sequential() #Sequential Model\n",
    "\n",
    "#ConvLayer(32 filters)\n",
    "model.add(Conv2D(filters=32,kernel_size=(5,5),activation='relu',input_shape=x_train.shape[1:]))\n",
    "model.add(Conv2D(filters=32,kernel_size=(5,5),activation='relu'))\n",
    "model.add(MaxPool2D(pool_size=(2,2)))\n",
    "model.add(Dropout(rate=0.25))\n",
    "#ConvLayer(64 filters)\n",
    "model.add(Conv2D(filters=64,kernel_size=(3,3),activation='relu'))\n",
    "model.add(Conv2D(filters=64,kernel_size=(3,3),activation='relu'))\n",
    "model.add(MaxPool2D(pool_size=(2,2)))\n",
    "model.add(Dropout(rate=0.25))\n",
    "#Flatten\n",
    "model.add(Flatten())\n",
    "#Dense layer with 256 hidden units\n",
    "model.add(Dense(256,activation='relu'))\n",
    "model.add(Dropout(rate=0.5))\n",
    "#Softmax layer for output\n",
    "model.add(Dense(43,activation='softmax'))\n",
    "model.summary()"
   ]
  },
  {
   "cell_type": "code",
   "execution_count": 17,
   "id": "d81196cf",
   "metadata": {},
   "outputs": [
    {
     "name": "stdout",
     "output_type": "stream",
     "text": [
      "Epoch 1/25\n",
      "981/981 [==============================] - 417s 424ms/step - loss: 2.0807 - accuracy: 0.4505 - val_loss: 0.7994 - val_accuracy: 0.8319\n",
      "Epoch 2/25\n",
      "981/981 [==============================] - 404s 412ms/step - loss: 0.8784 - accuracy: 0.7340 - val_loss: 0.3775 - val_accuracy: 0.9070\n",
      "Epoch 3/25\n",
      "981/981 [==============================] - 380s 387ms/step - loss: 0.6299 - accuracy: 0.8080 - val_loss: 0.2222 - val_accuracy: 0.9350\n",
      "Epoch 4/25\n",
      "981/981 [==============================] - 390s 397ms/step - loss: 0.4699 - accuracy: 0.8551 - val_loss: 0.1490 - val_accuracy: 0.9589\n",
      "Epoch 5/25\n",
      "981/981 [==============================] - 389s 397ms/step - loss: 0.3898 - accuracy: 0.8799 - val_loss: 0.1772 - val_accuracy: 0.9533\n",
      "Epoch 6/25\n",
      "981/981 [==============================] - 398s 406ms/step - loss: 0.3414 - accuracy: 0.8978 - val_loss: 0.1086 - val_accuracy: 0.9725\n",
      "Epoch 7/25\n",
      "981/981 [==============================] - 406s 413ms/step - loss: 0.2901 - accuracy: 0.9151 - val_loss: 0.0965 - val_accuracy: 0.9736\n",
      "Epoch 8/25\n",
      "981/981 [==============================] - 411s 419ms/step - loss: 0.2862 - accuracy: 0.9160 - val_loss: 0.0924 - val_accuracy: 0.9758\n",
      "Epoch 9/25\n",
      "981/981 [==============================] - 719s 733ms/step - loss: 0.2608 - accuracy: 0.9233 - val_loss: 0.1079 - val_accuracy: 0.9679\n",
      "Epoch 10/25\n",
      "981/981 [==============================] - 407s 415ms/step - loss: 0.2433 - accuracy: 0.9304 - val_loss: 0.1148 - val_accuracy: 0.9671\n",
      "Epoch 11/25\n",
      "981/981 [==============================] - 406s 414ms/step - loss: 0.2405 - accuracy: 0.9309 - val_loss: 0.0675 - val_accuracy: 0.9813\n",
      "Epoch 12/25\n",
      "981/981 [==============================] - 370s 377ms/step - loss: 0.2289 - accuracy: 0.9345 - val_loss: 0.0814 - val_accuracy: 0.9781\n",
      "Epoch 13/25\n",
      "981/981 [==============================] - 416s 424ms/step - loss: 0.2257 - accuracy: 0.9374 - val_loss: 0.0707 - val_accuracy: 0.9786\n",
      "Epoch 14/25\n",
      "981/981 [==============================] - 345s 351ms/step - loss: 0.2143 - accuracy: 0.9391 - val_loss: 0.0618 - val_accuracy: 0.9825\n",
      "Epoch 16/25\n",
      "981/981 [==============================] - 362s 369ms/step - loss: 0.1989 - accuracy: 0.9453 - val_loss: 0.0679 - val_accuracy: 0.9823\n",
      "Epoch 17/25\n",
      "981/981 [==============================] - 352s 359ms/step - loss: 0.1952 - accuracy: 0.9450 - val_loss: 0.0490 - val_accuracy: 0.9872\n",
      "Epoch 19/25\n",
      "981/981 [==============================] - 350s 357ms/step - loss: 0.1892 - accuracy: 0.9484 - val_loss: 0.0565 - val_accuracy: 0.9827\n",
      "Epoch 20/25\n",
      "981/981 [==============================] - 354s 360ms/step - loss: 0.1933 - accuracy: 0.9496 - val_loss: 0.0423 - val_accuracy: 0.9892\n",
      "Epoch 21/25\n",
      "981/981 [==============================] - 1814s 2s/step - loss: 0.1929 - accuracy: 0.9493 - val_loss: 0.0429 - val_accuracy: 0.9892\n",
      "Epoch 22/25\n",
      "981/981 [==============================] - 406s 414ms/step - loss: 0.1735 - accuracy: 0.9543 - val_loss: 0.0605 - val_accuracy: 0.9839\n",
      "Epoch 23/25\n",
      "981/981 [==============================] - 422s 430ms/step - loss: 0.1721 - accuracy: 0.9548 - val_loss: 0.0536 - val_accuracy: 0.9851\n",
      "Epoch 24/25\n",
      "981/981 [==============================] - 395s 403ms/step - loss: 0.1762 - accuracy: 0.9551 - val_loss: 0.0436 - val_accuracy: 0.9890\n"
     ]
    }
   ],
   "source": [
    "model.compile(optimizer='adam',loss='categorical_crossentropy',metrics=['accuracy'])\n",
    "history=model.fit(x_train,y_train, batch_size=32, epochs=25, validation_data=(x_test,y_test))"
   ]
  },
  {
   "cell_type": "code",
   "execution_count": 18,
   "id": "a34812de",
   "metadata": {},
   "outputs": [
    {
     "data": {
      "image/png": "[encoded data removed]",
      "text/plain": [
       "<Figure size 640x480 with 1 Axes>"
      ]
     },
     "metadata": {},
     "output_type": "display_data"
    }
   ],
   "source": [
    "plt.figure(0)\n",
    "plt.plot(history.history['accuracy'], label='training accuracy')\n",
    "plt.plot(history.history['val_accuracy'], label='val accuracy')\n",
    "plt.title('Accuracy')\n",
    "plt.xlabel('epochs')\n",
    "plt.ylabel('accuracy')\n",
    "plt.legend()\n",
    "plt.show()"
   ]
  },
  {
   "cell_type": "code",
   "execution_count": 33,
   "id": "1325ffc6",
   "metadata": {},
   "outputs": [
    {
     "data": {
      "image/png": "[encoded data removed]",
      "text/plain": [
       "<Figure size 640x480 with 1 Axes>"
      ]
     },
     "metadata": {},
     "output_type": "display_data"
    }
   ],
   "source": [
    "#Loss\n",
    "plt.plot(history.history['loss'], label='training loss')\n",
    "plt.plot(history.history['val_loss'], label='val loss')\n",
    "plt.title('Loss')\n",
    "plt.xlabel('epochs')\n",
    "plt.ylabel('loss')\n",
    "plt.legend()\n",
    "plt.show()"
   ]
  },
  {
   "cell_type": "code",
   "execution_count": 19,
   "id": "e1fa9c23",
   "metadata": {},
   "outputs": [],
   "source": [
    "#TESTING ON TEST DATA"
   ]
  },
  {
   "cell_type": "code",
   "execution_count": 78,
   "id": "8c0d15f3",
   "metadata": {},
   "outputs": [],
   "source": [
    "def testing(testcsv):\n",
    "    y_test=pd.read_csv(testcsv)\n",
    "    label=y_test['ClassId'].values\n",
    "    imgs=y_test['Path'].values\n",
    "    data=[]\n",
    "    for img in imgs:\n",
    "        image=Image.open(img)\n",
    "        image=image.resize((32,32))\n",
    "        data.append(np.array(image))\n",
    "    x_test=np.array(data)\n",
    "#     return x_test,label"
   ]
  },
  {
   "cell_type": "code",
   "execution_count": 84,
   "id": "37d746a1",
   "metadata": {},
   "outputs": [
    {
     "name": "stdout",
     "output_type": "stream",
     "text": [
      "395/395 [==============================] - 22s 55ms/step\n"
     ]
    }
   ],
   "source": [
    "y_pred = np.argmax(model.predict(x_test), axis=-1)"
   ]
  },
  {
   "cell_type": "code",
   "execution_count": 85,
   "id": "c69867d5",
   "metadata": {},
   "outputs": [],
   "source": [
    "# x_test, label = testing('Test.csv')"
   ]
  },
  {
   "cell_type": "code",
   "execution_count": 86,
   "id": "431e3fae",
   "metadata": {},
   "outputs": [],
   "source": [
    "# y_pred= model.predict(x_test)\n",
    "# y_pred = np.argmax(y_pred, axis=1)"
   ]
  },
  {
   "cell_type": "code",
   "execution_count": 87,
   "id": "8603d1db",
   "metadata": {},
   "outputs": [],
   "source": [
    "# y_pred = np.argmax(x_test,axis=1)\n",
    "# y_pred"
   ]
  },
  {
   "cell_type": "code",
   "execution_count": 88,
   "id": "1a819d7b",
   "metadata": {},
   "outputs": [
    {
     "name": "stdout",
     "output_type": "stream",
     "text": [
      "0.9515439429928741\n"
     ]
    }
   ],
   "source": [
    "from sklearn.metrics import accuracy_score\n",
    "print(accuracy_score(label, y_pred))"
   ]
  },
  {
   "cell_type": "code",
   "execution_count": 89,
   "id": "89ccc731",
   "metadata": {},
   "outputs": [],
   "source": [
    "model.save('./training/TSR.h5')"
   ]
  },
  {
   "cell_type": "code",
   "execution_count": 1,
   "id": "2576edf4",
   "metadata": {},
   "outputs": [
    {
     "ename": "OSError",
     "evalue": "No file or directory found at ./training/TSR.h5",
     "output_type": "error",
     "traceback": [
      "\u001b[1;31m---------------------------------------------------------------------------\u001b[0m",
      "\u001b[1;31mOSError\u001b[0m                                   Traceback (most recent call last)",
      "Cell \u001b[1;32mIn[1], line 2\u001b[0m\n\u001b[0;32m      1\u001b[0m \u001b[38;5;28;01mfrom\u001b[39;00m \u001b[38;5;21;01mkeras\u001b[39;00m\u001b[38;5;21;01m.\u001b[39;00m\u001b[38;5;21;01mmodels\u001b[39;00m \u001b[38;5;28;01mimport\u001b[39;00m load_model\n\u001b[1;32m----> 2\u001b[0m model\u001b[38;5;241m=\u001b[39m\u001b[43mload_model\u001b[49m\u001b[43m(\u001b[49m\u001b[38;5;124;43m'\u001b[39;49m\u001b[38;5;124;43m./training/TSR.h5\u001b[39;49m\u001b[38;5;124;43m'\u001b[39;49m\u001b[43m)\u001b[49m\n",
      "File \u001b[1;32m~\\anaconda3\\lib\\site-packages\\keras\\utils\\traceback_utils.py:70\u001b[0m, in \u001b[0;36mfilter_traceback.<locals>.error_handler\u001b[1;34m(*args, **kwargs)\u001b[0m\n\u001b[0;32m     67\u001b[0m     filtered_tb \u001b[38;5;241m=\u001b[39m _process_traceback_frames(e\u001b[38;5;241m.\u001b[39m__traceback__)\n\u001b[0;32m     68\u001b[0m     \u001b[38;5;66;03m# To get the full stack trace, call:\u001b[39;00m\n\u001b[0;32m     69\u001b[0m     \u001b[38;5;66;03m# `tf.debugging.disable_traceback_filtering()`\u001b[39;00m\n\u001b[1;32m---> 70\u001b[0m     \u001b[38;5;28;01mraise\u001b[39;00m e\u001b[38;5;241m.\u001b[39mwith_traceback(filtered_tb) \u001b[38;5;28;01mfrom\u001b[39;00m \u001b[38;5;28;01mNone\u001b[39;00m\n\u001b[0;32m     71\u001b[0m \u001b[38;5;28;01mfinally\u001b[39;00m:\n\u001b[0;32m     72\u001b[0m     \u001b[38;5;28;01mdel\u001b[39;00m filtered_tb\n",
      "File \u001b[1;32m~\\anaconda3\\lib\\site-packages\\keras\\saving\\save.py:226\u001b[0m, in \u001b[0;36mload_model\u001b[1;34m(filepath, custom_objects, compile, options)\u001b[0m\n\u001b[0;32m    224\u001b[0m \u001b[38;5;28;01mif\u001b[39;00m \u001b[38;5;28misinstance\u001b[39m(filepath_str, \u001b[38;5;28mstr\u001b[39m):\n\u001b[0;32m    225\u001b[0m     \u001b[38;5;28;01mif\u001b[39;00m \u001b[38;5;129;01mnot\u001b[39;00m tf\u001b[38;5;241m.\u001b[39mio\u001b[38;5;241m.\u001b[39mgfile\u001b[38;5;241m.\u001b[39mexists(filepath_str):\n\u001b[1;32m--> 226\u001b[0m         \u001b[38;5;28;01mraise\u001b[39;00m \u001b[38;5;167;01mIOError\u001b[39;00m(\n\u001b[0;32m    227\u001b[0m             \u001b[38;5;124mf\u001b[39m\u001b[38;5;124m\"\u001b[39m\u001b[38;5;124mNo file or directory found at \u001b[39m\u001b[38;5;132;01m{\u001b[39;00mfilepath_str\u001b[38;5;132;01m}\u001b[39;00m\u001b[38;5;124m\"\u001b[39m\n\u001b[0;32m    228\u001b[0m         )\n\u001b[0;32m    230\u001b[0m     \u001b[38;5;28;01mif\u001b[39;00m tf\u001b[38;5;241m.\u001b[39mio\u001b[38;5;241m.\u001b[39mgfile\u001b[38;5;241m.\u001b[39misdir(filepath_str):\n\u001b[0;32m    231\u001b[0m         \u001b[38;5;28;01mreturn\u001b[39;00m saved_model_load\u001b[38;5;241m.\u001b[39mload(\n\u001b[0;32m    232\u001b[0m             filepath_str, \u001b[38;5;28mcompile\u001b[39m, options\n\u001b[0;32m    233\u001b[0m         )\n",
      "\u001b[1;31mOSError\u001b[0m: No file or directory found at ./training/TSR.h5"
     ]
    }
   ],
   "source": [
    "from keras.models import load_model\n",
    "model=load_model('./training/TSR.h5')"
   ]
  },
  {
   "cell_type": "code",
   "execution_count": null,
   "id": "362e8ab1",
   "metadata": {},
   "outputs": [],
   "source": [
    "classes={0: 'Speed limit (20km/h)',\n",
    "         1: 'Speed limit (30km/h)',\n",
    "         2: 'Speed limit (50km/h)',\n",
    "         3: 'Speed limit (60km/h)',\n",
    "         4: 'Speed limit (70km/h)',\n",
    "         5: 'Speed limit (80km/h)',\n",
    "         6: 'End of speed limit (80km/h)',\n",
    "         7: 'Speed limit (100km/h)',\n",
    "         8: 'Speed limit (120km/h)',\n",
    "         9: 'No passing',\n",
    "         10: 'No passing veh over 3.5 tons',\n",
    "         11: 'Right-of-way at intersection',\n",
    "         12: 'Priority road',\n",
    "         13: 'Yield',\n",
    "         14: ' Stop',\n",
    "         15: 'No vehicles',\n",
    "         16: 'Veh > 3.5 tons prohibited',\n",
    "         17: 'No entry',\n",
    "         18: 'General caution',\n",
    "         19: 'Dengerous curve left',\n",
    "         20: 'Dangerous curve right',\n",
    "         21: 'Double curve',\n",
    "         22: 'Bumpy road',\n",
    "         23: 'Slippery road',\n",
    "         24: 'Road narrows on the right',\n",
    "         25: ' Road work',\n",
    "         26: 'Traffic signals',\n",
    "         27: ' Pedestrians',\n",
    "         28: 'Children crossing',\n",
    "         29: 'Bicycles crossing',\n",
    "         30: 'Beware of ice/snow',\n",
    "         31: 'Wild animals crossing',\n",
    "         32: 'End speed + passing limits',\n",
    "         33: 'Turn right ahead',\n",
    "         34: 'Turn left ahead',\n",
    "         35: 'Ahead only',\n",
    "         36: 'straight or right',\n",
    "         37: 'straight or left',\n",
    "         38: 'Keep right',\n",
    "         39: 'Keep left',\n",
    "         40: ' Roundabout mandatory',\n",
    "         41: 'End of no passing',\n",
    "         42: 'End no passing veh > 3.5 tons'\n",
    "        }"
   ]
  },
  {
   "cell_type": "code",
   "execution_count": null,
   "id": "000edb2e",
   "metadata": {},
   "outputs": [],
   "source": [
    "from PIL import Image\n",
    "import numpy as np\n",
    "import matplotlib.pyplot as plt\n",
    "\n",
    "def test_on_img(img):\n",
    "    data=[]\n",
    "    image=Image.open(img)\n",
    "    image=image.resize((32,32))\n",
    "    data.append(np.array(image))\n",
    "    x_test=np.array(data)\n",
    "    y_pred=np.argmax(model.predict(x_test), axis=-1)\n",
    "    return image,y_pred"
   ]
  },
  {
   "cell_type": "code",
   "execution_count": null,
   "id": "42a0a0c7",
   "metadata": {},
   "outputs": [],
   "source": [
    "plot,prediction=test_on_img(r'C:\\Traffic\\Test\\00078.png')\n",
    "s=[str(i) for i in prediction]\n",
    "a= int(\"\".join(s))\n",
    "print(\"Prediction traffic sign is: \",classes[a])\n",
    "plt.imshow(plot)\n",
    "plt.show()"
   ]
  },
  {
   "cell_type": "code",
   "execution_count": null,
   "id": "a533e477",
   "metadata": {},
   "outputs": [],
   "source": []
  }
 ],
 "metadata": {
  "kernelspec": {
   "display_name": "Python 3 (ipykernel)",
   "language": "python",
   "name": "python3"
  },
  "language_info": {
   "codemirror_mode": {
    "name": "ipython",
    "version": 3
   },
   "file_extension": ".py",
   "mimetype": "text/x-python",
   "name": "python",
   "nbconvert_exporter": "python",
   "pygments_lexer": "ipython3",
   "version": "3.10.13"
  }
 },
 "nbformat": 4,
 "nbformat_minor": 5
}
